{
 "cells": [
  {
   "cell_type": "code",
   "execution_count": 142,
   "id": "d082e785",
   "metadata": {},
   "outputs": [],
   "source": [
    "import pandas as pd\n",
    "import numpy as np\n",
    "import seaborn as sns\n",
    "import patsy\n",
    "import scipy.stats as stats\n",
    "\n",
    "import statsmodels.api as sm\n",
    "import statsmodels.formula.api as smf\n",
    "from sklearn import preprocessing\n",
    "from sklearn.linear_model import LinearRegression\n",
    "import matplotlib.pyplot as plt\n",
    "%matplotlib inline"
   ]
  },
  {
   "cell_type": "code",
   "execution_count": 143,
   "id": "0c917929",
   "metadata": {},
   "outputs": [],
   "source": [
    "df=pd.read_csv('merge_video_game.csv',\n",
    "               index_col = 0)"
   ]
  },
  {
   "cell_type": "code",
   "execution_count": 153,
   "id": "c150dfd5",
   "metadata": {
    "scrolled": true
   },
   "outputs": [
    {
     "data": {
      "text/html": [
       "<div>\n",
       "<style scoped>\n",
       "    .dataframe tbody tr th:only-of-type {\n",
       "        vertical-align: middle;\n",
       "    }\n",
       "\n",
       "    .dataframe tbody tr th {\n",
       "        vertical-align: top;\n",
       "    }\n",
       "\n",
       "    .dataframe thead th {\n",
       "        text-align: right;\n",
       "    }\n",
       "</style>\n",
       "<table border=\"1\" class=\"dataframe\">\n",
       "  <thead>\n",
       "    <tr style=\"text-align: right;\">\n",
       "      <th></th>\n",
       "      <th>Name</th>\n",
       "      <th>year</th>\n",
       "      <th>game_type</th>\n",
       "      <th>rate</th>\n",
       "      <th>votes</th>\n",
       "      <th>Rank</th>\n",
       "      <th>Platform</th>\n",
       "      <th>NA_Sales</th>\n",
       "      <th>EU_Sales</th>\n",
       "      <th>JP_Sales</th>\n",
       "      <th>Other_Sales</th>\n",
       "      <th>Global_Sales</th>\n",
       "    </tr>\n",
       "  </thead>\n",
       "  <tbody>\n",
       "    <tr>\n",
       "      <th>0</th>\n",
       "      <td>grand theft auto: san andreas</td>\n",
       "      <td>2004.0</td>\n",
       "      <td>Action, Crime</td>\n",
       "      <td>9.4</td>\n",
       "      <td>37707.0</td>\n",
       "      <td>18</td>\n",
       "      <td>PS2</td>\n",
       "      <td>9.43</td>\n",
       "      <td>0.40</td>\n",
       "      <td>0.41</td>\n",
       "      <td>10.57</td>\n",
       "      <td>20.81</td>\n",
       "    </tr>\n",
       "    <tr>\n",
       "      <th>1</th>\n",
       "      <td>grand theft auto: san andreas</td>\n",
       "      <td>2004.0</td>\n",
       "      <td>Action, Crime</td>\n",
       "      <td>9.4</td>\n",
       "      <td>37707.0</td>\n",
       "      <td>875</td>\n",
       "      <td>XB</td>\n",
       "      <td>1.26</td>\n",
       "      <td>0.61</td>\n",
       "      <td>0.00</td>\n",
       "      <td>0.09</td>\n",
       "      <td>1.95</td>\n",
       "    </tr>\n",
       "    <tr>\n",
       "      <th>2</th>\n",
       "      <td>grand theft auto: san andreas</td>\n",
       "      <td>2004.0</td>\n",
       "      <td>Action, Crime</td>\n",
       "      <td>9.4</td>\n",
       "      <td>37707.0</td>\n",
       "      <td>2122</td>\n",
       "      <td>PC</td>\n",
       "      <td>0.00</td>\n",
       "      <td>0.92</td>\n",
       "      <td>0.00</td>\n",
       "      <td>0.05</td>\n",
       "      <td>0.98</td>\n",
       "    </tr>\n",
       "    <tr>\n",
       "      <th>3</th>\n",
       "      <td>grand theft auto: san andreas</td>\n",
       "      <td>2004.0</td>\n",
       "      <td>Action, Crime</td>\n",
       "      <td>9.4</td>\n",
       "      <td>37707.0</td>\n",
       "      <td>9829</td>\n",
       "      <td>X360</td>\n",
       "      <td>0.08</td>\n",
       "      <td>0.03</td>\n",
       "      <td>0.00</td>\n",
       "      <td>0.01</td>\n",
       "      <td>0.12</td>\n",
       "    </tr>\n",
       "    <tr>\n",
       "      <th>4</th>\n",
       "      <td>grand theft auto v</td>\n",
       "      <td>2013.0</td>\n",
       "      <td>Action, Crime, Drama</td>\n",
       "      <td>9.5</td>\n",
       "      <td>55589.0</td>\n",
       "      <td>17</td>\n",
       "      <td>PS3</td>\n",
       "      <td>7.01</td>\n",
       "      <td>9.27</td>\n",
       "      <td>0.97</td>\n",
       "      <td>4.14</td>\n",
       "      <td>21.40</td>\n",
       "    </tr>\n",
       "    <tr>\n",
       "      <th>...</th>\n",
       "      <td>...</td>\n",
       "      <td>...</td>\n",
       "      <td>...</td>\n",
       "      <td>...</td>\n",
       "      <td>...</td>\n",
       "      <td>...</td>\n",
       "      <td>...</td>\n",
       "      <td>...</td>\n",
       "      <td>...</td>\n",
       "      <td>...</td>\n",
       "      <td>...</td>\n",
       "      <td>...</td>\n",
       "    </tr>\n",
       "    <tr>\n",
       "      <th>401</th>\n",
       "      <td>the wolf among us</td>\n",
       "      <td>2013.0</td>\n",
       "      <td>Action, Crime, Drama</td>\n",
       "      <td>8.9</td>\n",
       "      <td>6571.0</td>\n",
       "      <td>11939</td>\n",
       "      <td>PSV</td>\n",
       "      <td>0.05</td>\n",
       "      <td>0.00</td>\n",
       "      <td>0.00</td>\n",
       "      <td>0.02</td>\n",
       "      <td>0.07</td>\n",
       "    </tr>\n",
       "    <tr>\n",
       "      <th>402</th>\n",
       "      <td>the wolf among us</td>\n",
       "      <td>2013.0</td>\n",
       "      <td>Action, Crime, Drama</td>\n",
       "      <td>8.9</td>\n",
       "      <td>6571.0</td>\n",
       "      <td>13683</td>\n",
       "      <td>X360</td>\n",
       "      <td>0.01</td>\n",
       "      <td>0.03</td>\n",
       "      <td>0.00</td>\n",
       "      <td>0.00</td>\n",
       "      <td>0.04</td>\n",
       "    </tr>\n",
       "    <tr>\n",
       "      <th>403</th>\n",
       "      <td>true crime: new york city</td>\n",
       "      <td>2005.0</td>\n",
       "      <td>Action, Adventure, Crime</td>\n",
       "      <td>7.0</td>\n",
       "      <td>897.0</td>\n",
       "      <td>2723</td>\n",
       "      <td>PS2</td>\n",
       "      <td>0.57</td>\n",
       "      <td>0.02</td>\n",
       "      <td>0.07</td>\n",
       "      <td>0.09</td>\n",
       "      <td>0.76</td>\n",
       "    </tr>\n",
       "    <tr>\n",
       "      <th>404</th>\n",
       "      <td>true crime: new york city</td>\n",
       "      <td>2005.0</td>\n",
       "      <td>Action, Adventure, Crime</td>\n",
       "      <td>7.0</td>\n",
       "      <td>897.0</td>\n",
       "      <td>6244</td>\n",
       "      <td>XB</td>\n",
       "      <td>0.21</td>\n",
       "      <td>0.06</td>\n",
       "      <td>0.00</td>\n",
       "      <td>0.01</td>\n",
       "      <td>0.28</td>\n",
       "    </tr>\n",
       "    <tr>\n",
       "      <th>405</th>\n",
       "      <td>true crime: new york city</td>\n",
       "      <td>2005.0</td>\n",
       "      <td>Action, Adventure, Crime</td>\n",
       "      <td>7.0</td>\n",
       "      <td>897.0</td>\n",
       "      <td>8266</td>\n",
       "      <td>GC</td>\n",
       "      <td>0.13</td>\n",
       "      <td>0.03</td>\n",
       "      <td>0.00</td>\n",
       "      <td>0.00</td>\n",
       "      <td>0.17</td>\n",
       "    </tr>\n",
       "  </tbody>\n",
       "</table>\n",
       "<p>394 rows × 12 columns</p>\n",
       "</div>"
      ],
      "text/plain": [
       "                              Name    year                 game_type  rate  \\\n",
       "0    grand theft auto: san andreas  2004.0             Action, Crime   9.4   \n",
       "1    grand theft auto: san andreas  2004.0             Action, Crime   9.4   \n",
       "2    grand theft auto: san andreas  2004.0             Action, Crime   9.4   \n",
       "3    grand theft auto: san andreas  2004.0             Action, Crime   9.4   \n",
       "4               grand theft auto v  2013.0      Action, Crime, Drama   9.5   \n",
       "..                             ...     ...                       ...   ...   \n",
       "401              the wolf among us  2013.0      Action, Crime, Drama   8.9   \n",
       "402              the wolf among us  2013.0      Action, Crime, Drama   8.9   \n",
       "403      true crime: new york city  2005.0  Action, Adventure, Crime   7.0   \n",
       "404      true crime: new york city  2005.0  Action, Adventure, Crime   7.0   \n",
       "405      true crime: new york city  2005.0  Action, Adventure, Crime   7.0   \n",
       "\n",
       "       votes   Rank Platform  NA_Sales  EU_Sales  JP_Sales  Other_Sales  \\\n",
       "0    37707.0     18      PS2      9.43      0.40      0.41        10.57   \n",
       "1    37707.0    875       XB      1.26      0.61      0.00         0.09   \n",
       "2    37707.0   2122       PC      0.00      0.92      0.00         0.05   \n",
       "3    37707.0   9829     X360      0.08      0.03      0.00         0.01   \n",
       "4    55589.0     17      PS3      7.01      9.27      0.97         4.14   \n",
       "..       ...    ...      ...       ...       ...       ...          ...   \n",
       "401   6571.0  11939      PSV      0.05      0.00      0.00         0.02   \n",
       "402   6571.0  13683     X360      0.01      0.03      0.00         0.00   \n",
       "403    897.0   2723      PS2      0.57      0.02      0.07         0.09   \n",
       "404    897.0   6244       XB      0.21      0.06      0.00         0.01   \n",
       "405    897.0   8266       GC      0.13      0.03      0.00         0.00   \n",
       "\n",
       "     Global_Sales  \n",
       "0           20.81  \n",
       "1            1.95  \n",
       "2            0.98  \n",
       "3            0.12  \n",
       "4           21.40  \n",
       "..            ...  \n",
       "401          0.07  \n",
       "402          0.04  \n",
       "403          0.76  \n",
       "404          0.28  \n",
       "405          0.17  \n",
       "\n",
       "[394 rows x 12 columns]"
      ]
     },
     "execution_count": 153,
     "metadata": {},
     "output_type": "execute_result"
    }
   ],
   "source": [
    "df"
   ]
  },
  {
   "cell_type": "code",
   "execution_count": 173,
   "id": "0b7711e6",
   "metadata": {},
   "outputs": [
    {
     "data": {
      "text/plain": [
       "array(['PS2', 'XB', 'PC', 'X360', 'PS3', 'PS4', 'XOne', '2600', 'PS',\n",
       "       'N64', 'WiiU', 'GC', 'PSV', 'Wii', 'DS', 'GBA', 'PSP', 'GB', '3DS'],\n",
       "      dtype=object)"
      ]
     },
     "execution_count": 173,
     "metadata": {},
     "output_type": "execute_result"
    }
   ],
   "source": [
    "df['Platform'].unique()"
   ]
  },
  {
   "cell_type": "code",
   "execution_count": 144,
   "id": "d1475e74",
   "metadata": {
    "scrolled": true
   },
   "outputs": [
    {
     "data": {
      "text/html": [
       "<div>\n",
       "<style scoped>\n",
       "    .dataframe tbody tr th:only-of-type {\n",
       "        vertical-align: middle;\n",
       "    }\n",
       "\n",
       "    .dataframe tbody tr th {\n",
       "        vertical-align: top;\n",
       "    }\n",
       "\n",
       "    .dataframe thead th {\n",
       "        text-align: right;\n",
       "    }\n",
       "</style>\n",
       "<table border=\"1\" class=\"dataframe\">\n",
       "  <thead>\n",
       "    <tr style=\"text-align: right;\">\n",
       "      <th></th>\n",
       "      <th>year</th>\n",
       "      <th>rate</th>\n",
       "      <th>votes</th>\n",
       "      <th>Rank</th>\n",
       "      <th>NA_Sales</th>\n",
       "      <th>EU_Sales</th>\n",
       "      <th>JP_Sales</th>\n",
       "      <th>Other_Sales</th>\n",
       "      <th>Global_Sales</th>\n",
       "    </tr>\n",
       "  </thead>\n",
       "  <tbody>\n",
       "    <tr>\n",
       "      <th>count</th>\n",
       "      <td>400.000000</td>\n",
       "      <td>400.000000</td>\n",
       "      <td>400.00000</td>\n",
       "      <td>406.000000</td>\n",
       "      <td>406.000000</td>\n",
       "      <td>406.000000</td>\n",
       "      <td>406.000000</td>\n",
       "      <td>406.000000</td>\n",
       "      <td>406.000000</td>\n",
       "    </tr>\n",
       "    <tr>\n",
       "      <th>mean</th>\n",
       "      <td>2010.690000</td>\n",
       "      <td>8.361500</td>\n",
       "      <td>10301.84750</td>\n",
       "      <td>3300.448276</td>\n",
       "      <td>1.188498</td>\n",
       "      <td>0.775369</td>\n",
       "      <td>0.067291</td>\n",
       "      <td>0.294064</td>\n",
       "      <td>2.325493</td>\n",
       "    </tr>\n",
       "    <tr>\n",
       "      <th>std</th>\n",
       "      <td>4.482648</td>\n",
       "      <td>0.743539</td>\n",
       "      <td>9602.18746</td>\n",
       "      <td>3820.563391</td>\n",
       "      <td>1.731449</td>\n",
       "      <td>1.083115</td>\n",
       "      <td>0.185191</td>\n",
       "      <td>0.663309</td>\n",
       "      <td>3.225921</td>\n",
       "    </tr>\n",
       "    <tr>\n",
       "      <th>min</th>\n",
       "      <td>1997.000000</td>\n",
       "      <td>6.400000</td>\n",
       "      <td>536.00000</td>\n",
       "      <td>17.000000</td>\n",
       "      <td>0.000000</td>\n",
       "      <td>0.000000</td>\n",
       "      <td>0.000000</td>\n",
       "      <td>0.000000</td>\n",
       "      <td>0.010000</td>\n",
       "    </tr>\n",
       "    <tr>\n",
       "      <th>25%</th>\n",
       "      <td>2008.000000</td>\n",
       "      <td>8.000000</td>\n",
       "      <td>4105.25000</td>\n",
       "      <td>455.000000</td>\n",
       "      <td>0.170000</td>\n",
       "      <td>0.130000</td>\n",
       "      <td>0.000000</td>\n",
       "      <td>0.040000</td>\n",
       "      <td>0.430000</td>\n",
       "    </tr>\n",
       "    <tr>\n",
       "      <th>50%</th>\n",
       "      <td>2012.000000</td>\n",
       "      <td>8.400000</td>\n",
       "      <td>6951.00000</td>\n",
       "      <td>1891.500000</td>\n",
       "      <td>0.555000</td>\n",
       "      <td>0.400000</td>\n",
       "      <td>0.000000</td>\n",
       "      <td>0.110000</td>\n",
       "      <td>1.085000</td>\n",
       "    </tr>\n",
       "    <tr>\n",
       "      <th>75%</th>\n",
       "      <td>2014.000000</td>\n",
       "      <td>8.925000</td>\n",
       "      <td>14673.00000</td>\n",
       "      <td>4508.500000</td>\n",
       "      <td>1.407500</td>\n",
       "      <td>0.977500</td>\n",
       "      <td>0.060000</td>\n",
       "      <td>0.310000</td>\n",
       "      <td>3.070000</td>\n",
       "    </tr>\n",
       "    <tr>\n",
       "      <th>max</th>\n",
       "      <td>2023.000000</td>\n",
       "      <td>9.700000</td>\n",
       "      <td>55776.00000</td>\n",
       "      <td>16375.000000</td>\n",
       "      <td>9.670000</td>\n",
       "      <td>9.270000</td>\n",
       "      <td>2.020000</td>\n",
       "      <td>10.570000</td>\n",
       "      <td>21.400000</td>\n",
       "    </tr>\n",
       "  </tbody>\n",
       "</table>\n",
       "</div>"
      ],
      "text/plain": [
       "              year        rate        votes          Rank    NA_Sales  \\\n",
       "count   400.000000  400.000000    400.00000    406.000000  406.000000   \n",
       "mean   2010.690000    8.361500  10301.84750   3300.448276    1.188498   \n",
       "std       4.482648    0.743539   9602.18746   3820.563391    1.731449   \n",
       "min    1997.000000    6.400000    536.00000     17.000000    0.000000   \n",
       "25%    2008.000000    8.000000   4105.25000    455.000000    0.170000   \n",
       "50%    2012.000000    8.400000   6951.00000   1891.500000    0.555000   \n",
       "75%    2014.000000    8.925000  14673.00000   4508.500000    1.407500   \n",
       "max    2023.000000    9.700000  55776.00000  16375.000000    9.670000   \n",
       "\n",
       "         EU_Sales    JP_Sales  Other_Sales  Global_Sales  \n",
       "count  406.000000  406.000000   406.000000    406.000000  \n",
       "mean     0.775369    0.067291     0.294064      2.325493  \n",
       "std      1.083115    0.185191     0.663309      3.225921  \n",
       "min      0.000000    0.000000     0.000000      0.010000  \n",
       "25%      0.130000    0.000000     0.040000      0.430000  \n",
       "50%      0.400000    0.000000     0.110000      1.085000  \n",
       "75%      0.977500    0.060000     0.310000      3.070000  \n",
       "max      9.270000    2.020000    10.570000     21.400000  "
      ]
     },
     "execution_count": 144,
     "metadata": {},
     "output_type": "execute_result"
    }
   ],
   "source": [
    "df.describe()"
   ]
  },
  {
   "cell_type": "code",
   "execution_count": 145,
   "id": "f51b0be6",
   "metadata": {
    "scrolled": true
   },
   "outputs": [
    {
     "data": {
      "text/plain": [
       "Name            0\n",
       "year            6\n",
       "game_type       0\n",
       "rate            6\n",
       "votes           6\n",
       "Rank            0\n",
       "Platform        0\n",
       "NA_Sales        0\n",
       "EU_Sales        0\n",
       "JP_Sales        0\n",
       "Other_Sales     0\n",
       "Global_Sales    0\n",
       "dtype: int64"
      ]
     },
     "execution_count": 145,
     "metadata": {},
     "output_type": "execute_result"
    }
   ],
   "source": [
    "df.isna().sum()"
   ]
  },
  {
   "cell_type": "code",
   "execution_count": 146,
   "id": "2f288a96",
   "metadata": {},
   "outputs": [],
   "source": [
    "df.dropna(inplace=True)"
   ]
  },
  {
   "cell_type": "code",
   "execution_count": 147,
   "id": "856a5844",
   "metadata": {
    "scrolled": true
   },
   "outputs": [
    {
     "data": {
      "text/plain": [
       "Name            0\n",
       "year            0\n",
       "game_type       0\n",
       "rate            0\n",
       "votes           0\n",
       "Rank            0\n",
       "Platform        0\n",
       "NA_Sales        0\n",
       "EU_Sales        0\n",
       "JP_Sales        0\n",
       "Other_Sales     0\n",
       "Global_Sales    0\n",
       "dtype: int64"
      ]
     },
     "execution_count": 147,
     "metadata": {},
     "output_type": "execute_result"
    }
   ],
   "source": [
    "df.isna().sum()"
   ]
  },
  {
   "cell_type": "markdown",
   "id": "e32f1396",
   "metadata": {},
   "source": [
    "## baseline model"
   ]
  },
  {
   "cell_type": "code",
   "execution_count": 162,
   "id": "80192e5b",
   "metadata": {
    "scrolled": true
   },
   "outputs": [],
   "source": [
    "#cols = ['year','rate','votes','Rank','NA_Sales','EU_Sales','JP_Sales','Other_Sales']\n",
    "cols=['rate','votes']\n",
    "x = df[cols]\n",
    "y = df.Global_Sales"
   ]
  },
  {
   "cell_type": "code",
   "execution_count": 163,
   "id": "b7ffa5bd",
   "metadata": {},
   "outputs": [],
   "source": [
    "lr = LinearRegression()# y=mx+c \n",
    "fit = lr.fit(x,y)"
   ]
  },
  {
   "cell_type": "code",
   "execution_count": 164,
   "id": "642d3f0d",
   "metadata": {},
   "outputs": [
    {
     "data": {
      "text/plain": [
       "0.23747996294803853"
      ]
     },
     "execution_count": 164,
     "metadata": {},
     "output_type": "execute_result"
    }
   ],
   "source": [
    "lr.score(x,y)"
   ]
  },
  {
   "cell_type": "code",
   "execution_count": 165,
   "id": "5180ae67",
   "metadata": {
    "scrolled": true
   },
   "outputs": [
    {
     "data": {
      "text/plain": [
       "<seaborn.axisgrid.JointGrid at 0x1ea78c079d0>"
      ]
     },
     "execution_count": 165,
     "metadata": {},
     "output_type": "execute_result"
    },
    {
     "data": {
      "image/png": "[encoded data removed]",
      "text/plain": [
       "<Figure size 432x432 with 3 Axes>"
      ]
     },
     "metadata": {
      "needs_background": "light"
     },
     "output_type": "display_data"
    }
   ],
   "source": [
    "preds = lm.predict(x) # generate predictions (on training data) using fit model\n",
    "\n",
    "sns.jointplot(x=preds,y=y, kind='reg')"
   ]
  },
  {
   "cell_type": "code",
   "execution_count": 166,
   "id": "310de761",
   "metadata": {
    "scrolled": true
   },
   "outputs": [
    {
     "data": {
      "text/html": [
       "<table class=\"simpletable\">\n",
       "<caption>OLS Regression Results</caption>\n",
       "<tr>\n",
       "  <th>Dep. Variable:</th>      <td>Global_Sales</td>   <th>  R-squared (uncentered):</th>      <td>   0.492</td>\n",
       "</tr>\n",
       "<tr>\n",
       "  <th>Model:</th>                   <td>OLS</td>       <th>  Adj. R-squared (uncentered):</th> <td>   0.490</td>\n",
       "</tr>\n",
       "<tr>\n",
       "  <th>Method:</th>             <td>Least Squares</td>  <th>  F-statistic:       </th>          <td>   190.1</td>\n",
       "</tr>\n",
       "<tr>\n",
       "  <th>Date:</th>             <td>Wed, 01 Dec 2021</td> <th>  Prob (F-statistic):</th>          <td>1.98e-58</td>\n",
       "</tr>\n",
       "<tr>\n",
       "  <th>Time:</th>                 <td>09:13:16</td>     <th>  Log-Likelihood:    </th>          <td> -974.06</td>\n",
       "</tr>\n",
       "<tr>\n",
       "  <th>No. Observations:</th>      <td>   394</td>      <th>  AIC:               </th>          <td>   1952.</td>\n",
       "</tr>\n",
       "<tr>\n",
       "  <th>Df Residuals:</th>          <td>   392</td>      <th>  BIC:               </th>          <td>   1960.</td>\n",
       "</tr>\n",
       "<tr>\n",
       "  <th>Df Model:</th>              <td>     2</td>      <th>                     </th>              <td> </td>   \n",
       "</tr>\n",
       "<tr>\n",
       "  <th>Covariance Type:</th>      <td>nonrobust</td>    <th>                     </th>              <td> </td>   \n",
       "</tr>\n",
       "</table>\n",
       "<table class=\"simpletable\">\n",
       "<tr>\n",
       "    <td></td>       <th>coef</th>     <th>std err</th>      <th>t</th>      <th>P>|t|</th>  <th>[0.025</th>    <th>0.975]</th>  \n",
       "</tr>\n",
       "<tr>\n",
       "  <th>rate</th>  <td>    0.0781</td> <td>    0.027</td> <td>    2.923</td> <td> 0.004</td> <td>    0.026</td> <td>    0.131</td>\n",
       "</tr>\n",
       "<tr>\n",
       "  <th>votes</th> <td>    0.0002</td> <td> 1.58e-05</td> <td>   10.200</td> <td> 0.000</td> <td>    0.000</td> <td>    0.000</td>\n",
       "</tr>\n",
       "</table>\n",
       "<table class=\"simpletable\">\n",
       "<tr>\n",
       "  <th>Omnibus:</th>       <td>165.227</td> <th>  Durbin-Watson:     </th> <td>   1.613</td> \n",
       "</tr>\n",
       "<tr>\n",
       "  <th>Prob(Omnibus):</th> <td> 0.000</td>  <th>  Jarque-Bera (JB):  </th> <td> 691.034</td> \n",
       "</tr>\n",
       "<tr>\n",
       "  <th>Skew:</th>          <td> 1.835</td>  <th>  Prob(JB):          </th> <td>8.79e-151</td>\n",
       "</tr>\n",
       "<tr>\n",
       "  <th>Kurtosis:</th>      <td> 8.350</td>  <th>  Cond. No.          </th> <td>2.61e+03</td> \n",
       "</tr>\n",
       "</table><br/><br/>Notes:<br/>[1] R² is computed without centering (uncentered) since the model does not contain a constant.<br/>[2] Standard Errors assume that the covariance matrix of the errors is correctly specified.<br/>[3] The condition number is large, 2.61e+03. This might indicate that there are<br/>strong multicollinearity or other numerical problems."
      ],
      "text/plain": [
       "<class 'statsmodels.iolib.summary.Summary'>\n",
       "\"\"\"\n",
       "                                 OLS Regression Results                                \n",
       "=======================================================================================\n",
       "Dep. Variable:           Global_Sales   R-squared (uncentered):                   0.492\n",
       "Model:                            OLS   Adj. R-squared (uncentered):              0.490\n",
       "Method:                 Least Squares   F-statistic:                              190.1\n",
       "Date:                Wed, 01 Dec 2021   Prob (F-statistic):                    1.98e-58\n",
       "Time:                        09:13:16   Log-Likelihood:                         -974.06\n",
       "No. Observations:                 394   AIC:                                      1952.\n",
       "Df Residuals:                     392   BIC:                                      1960.\n",
       "Df Model:                           2                                                  \n",
       "Covariance Type:            nonrobust                                                  \n",
       "==============================================================================\n",
       "                 coef    std err          t      P>|t|      [0.025      0.975]\n",
       "------------------------------------------------------------------------------\n",
       "rate           0.0781      0.027      2.923      0.004       0.026       0.131\n",
       "votes          0.0002   1.58e-05     10.200      0.000       0.000       0.000\n",
       "==============================================================================\n",
       "Omnibus:                      165.227   Durbin-Watson:                   1.613\n",
       "Prob(Omnibus):                  0.000   Jarque-Bera (JB):              691.034\n",
       "Skew:                           1.835   Prob(JB):                    8.79e-151\n",
       "Kurtosis:                       8.350   Cond. No.                     2.61e+03\n",
       "==============================================================================\n",
       "\n",
       "Notes:\n",
       "[1] R² is computed without centering (uncentered) since the model does not contain a constant.\n",
       "[2] Standard Errors assume that the covariance matrix of the errors is correctly specified.\n",
       "[3] The condition number is large, 2.61e+03. This might indicate that there are\n",
       "strong multicollinearity or other numerical problems.\n",
       "\"\"\""
      ]
     },
     "execution_count": 166,
     "metadata": {},
     "output_type": "execute_result"
    }
   ],
   "source": [
    "model = sm.OLS(y,x)\n",
    "fit = model.fit()\n",
    "fit.summary()"
   ]
  },
  {
   "cell_type": "code",
   "execution_count": 167,
   "id": "9333019a",
   "metadata": {},
   "outputs": [],
   "source": [
    "from sklearn.model_selection import train_test_split\n",
    "from sklearn.linear_model import LinearRegression, Ridge #ordinary linear regression + w/ ridge regularization\n",
    "from sklearn.preprocessing import StandardScaler, PolynomialFeatures\n",
    "\n",
    "# hold out 20% of the data for final testing\n",
    "x, X_test, y, y_test = train_test_split(x, y, test_size=.2, random_state=10)\n",
    "X_train, X_val, y_train, y_val = train_test_split(x, y, test_size=.2, random_state=10)"
   ]
  },
  {
   "cell_type": "code",
   "execution_count": 168,
   "id": "e84f9cd0",
   "metadata": {},
   "outputs": [],
   "source": [
    "\n",
    "lm = LinearRegression()\n",
    "\n",
    "#Feature scaling for train, val, and test so that we can run our ridge model on each\n",
    "scaler = StandardScaler()\n",
    "\n",
    "X_train_scaled = scaler.fit_transform(X_train.values)\n",
    "X_val_scaled = scaler.transform(X_val.values)\n",
    "X_test_scaled = scaler.transform(X_test.values)\n",
    "\n",
    "lm_reg = Ridge(alpha=1)\n",
    "\n",
    "#Feature transforms for train, val, and test so that we can run our poly model on each\n",
    "poly = PolynomialFeatures(degree=2) \n",
    "\n",
    "X_train_poly = poly.fit_transform(X_train.values)\n",
    "X_val_poly = poly.transform(X_val.values)\n",
    "X_test_poly = poly.transform(X_test.values)\n",
    "\n",
    "lm_poly = LinearRegression()"
   ]
  },
  {
   "cell_type": "code",
   "execution_count": 169,
   "id": "0e107b6e",
   "metadata": {},
   "outputs": [
    {
     "name": "stdout",
     "output_type": "stream",
     "text": [
      "Linear Regression val R^2: 0.350\n",
      "Linear Regression test R^2: 0.231\n",
      "Ridge Regression val R^2: 0.349\n",
      "Degree 2 polynomial regression val R^2: 0.313\n"
     ]
    }
   ],
   "source": [
    "#baseline model\n",
    "\n",
    "lm.fit(X_train, y_train)\n",
    "print(f'Linear Regression val R^2: {lm.score(X_val, y_val):.3f}')\n",
    "lm.fit(x,y)\n",
    "print(f'Linear Regression test R^2: {lm.score(X_test, y_test):.3f}')\n",
    "\n",
    "#exp1\n",
    "\n",
    "lm_reg.fit(X_train_scaled, y_train)\n",
    "print(f'Ridge Regression val R^2: {lm_reg.score(X_val_scaled, y_val):.3f}')\n",
    "\n",
    "#exp2\n",
    "\n",
    "lm_poly.fit(X_train_poly, y_train)\n",
    "print(f'Degree 2 polynomial regression val R^2: {lm_poly.score(X_val_poly, y_val):.3f}')"
   ]
  },
  {
   "cell_type": "code",
   "execution_count": 170,
   "id": "86d8fa49",
   "metadata": {},
   "outputs": [],
   "source": [
    "# construct LinearRegression model object\n",
    "lr = LinearRegression()# y=mx+c \n",
    "fit = lr.fit(x,y)"
   ]
  },
  {
   "cell_type": "code",
   "execution_count": 171,
   "id": "e2bb29de",
   "metadata": {
    "scrolled": true
   },
   "outputs": [
    {
     "name": "stdout",
     "output_type": "stream",
     "text": [
      "4.928171531727601\n",
      "[-5.32186840e-01  1.84762654e-04]\n"
     ]
    }
   ],
   "source": [
    "# extract feature coefficients and intercept from fit model\n",
    "print(lr.intercept_)\n",
    "print(lr.coef_)"
   ]
  },
  {
   "cell_type": "code",
   "execution_count": 46,
   "id": "3b498070",
   "metadata": {},
   "outputs": [
    {
     "data": {
      "text/plain": [
       "0.9999963175771603"
      ]
     },
     "execution_count": 46,
     "metadata": {},
     "output_type": "execute_result"
    }
   ],
   "source": [
    "lr.score(x,y)"
   ]
  },
  {
   "cell_type": "code",
   "execution_count": 47,
   "id": "e6b680bd",
   "metadata": {},
   "outputs": [
    {
     "data": {
      "text/plain": [
       "<seaborn.axisgrid.JointGrid at 0x1ea749ae100>"
      ]
     },
     "execution_count": 47,
     "metadata": {},
     "output_type": "execute_result"
    },
    {
     "data": {
      "image/png": "[encoded data removed]",
      "text/plain": [
       "<Figure size 432x432 with 3 Axes>"
      ]
     },
     "metadata": {
      "needs_background": "light"
     },
     "output_type": "display_data"
    }
   ],
   "source": [
    "preds = lr.predict(x) # generate predictions (on training data) using fit model\n",
    "\n",
    "sns.jointplot(x=preds,y=y, kind='reg')"
   ]
  },
  {
   "cell_type": "code",
   "execution_count": 48,
   "id": "7a6eb239",
   "metadata": {},
   "outputs": [
    {
     "data": {
      "text/html": [
       "<table class=\"simpletable\">\n",
       "<caption>OLS Regression Results</caption>\n",
       "<tr>\n",
       "  <th>Dep. Variable:</th>      <td>Global_Sales</td>   <th>  R-squared (uncentered):</th>      <td>   1.000</td> \n",
       "</tr>\n",
       "<tr>\n",
       "  <th>Model:</th>                   <td>OLS</td>       <th>  Adj. R-squared (uncentered):</th> <td>   1.000</td> \n",
       "</tr>\n",
       "<tr>\n",
       "  <th>Method:</th>             <td>Least Squares</td>  <th>  F-statistic:       </th>          <td>1.995e+07</td>\n",
       "</tr>\n",
       "<tr>\n",
       "  <th>Date:</th>             <td>Tue, 30 Nov 2021</td> <th>  Prob (F-statistic):</th>           <td>  0.00</td>  \n",
       "</tr>\n",
       "<tr>\n",
       "  <th>Time:</th>                 <td>12:30:00</td>     <th>  Log-Likelihood:    </th>          <td>  1440.1</td> \n",
       "</tr>\n",
       "<tr>\n",
       "  <th>No. Observations:</th>      <td>   394</td>      <th>  AIC:               </th>          <td>  -2864.</td> \n",
       "</tr>\n",
       "<tr>\n",
       "  <th>Df Residuals:</th>          <td>   386</td>      <th>  BIC:               </th>          <td>  -2832.</td> \n",
       "</tr>\n",
       "<tr>\n",
       "  <th>Df Model:</th>              <td>     8</td>      <th>                     </th>              <td> </td>    \n",
       "</tr>\n",
       "<tr>\n",
       "  <th>Covariance Type:</th>      <td>nonrobust</td>    <th>                     </th>              <td> </td>    \n",
       "</tr>\n",
       "</table>\n",
       "<table class=\"simpletable\">\n",
       "<tr>\n",
       "       <td></td>          <th>coef</th>     <th>std err</th>      <th>t</th>      <th>P>|t|</th>  <th>[0.025</th>    <th>0.975]</th>  \n",
       "</tr>\n",
       "<tr>\n",
       "  <th>year</th>        <td>-1.684e-06</td> <td> 2.17e-06</td> <td>   -0.778</td> <td> 0.437</td> <td>-5.94e-06</td> <td> 2.57e-06</td>\n",
       "</tr>\n",
       "<tr>\n",
       "  <th>rate</th>        <td>    0.0004</td> <td>    0.001</td> <td>    0.671</td> <td> 0.503</td> <td>   -0.001</td> <td>    0.001</td>\n",
       "</tr>\n",
       "<tr>\n",
       "  <th>votes</th>       <td> 4.647e-08</td> <td> 4.87e-08</td> <td>    0.954</td> <td> 0.341</td> <td>-4.93e-08</td> <td> 1.42e-07</td>\n",
       "</tr>\n",
       "<tr>\n",
       "  <th>Rank</th>        <td> 1.105e-07</td> <td> 9.62e-08</td> <td>    1.149</td> <td> 0.251</td> <td>-7.86e-08</td> <td>    3e-07</td>\n",
       "</tr>\n",
       "<tr>\n",
       "  <th>NA_Sales</th>    <td>    1.0000</td> <td>    0.000</td> <td> 3003.062</td> <td> 0.000</td> <td>    0.999</td> <td>    1.001</td>\n",
       "</tr>\n",
       "<tr>\n",
       "  <th>EU_Sales</th>    <td>    0.9996</td> <td>    0.001</td> <td> 1793.616</td> <td> 0.000</td> <td>    0.998</td> <td>    1.001</td>\n",
       "</tr>\n",
       "<tr>\n",
       "  <th>JP_Sales</th>    <td>    1.0005</td> <td>    0.002</td> <td>  503.074</td> <td> 0.000</td> <td>    0.997</td> <td>    1.004</td>\n",
       "</tr>\n",
       "<tr>\n",
       "  <th>Other_Sales</th> <td>    1.0000</td> <td>    0.001</td> <td> 1554.730</td> <td> 0.000</td> <td>    0.999</td> <td>    1.001</td>\n",
       "</tr>\n",
       "</table>\n",
       "<table class=\"simpletable\">\n",
       "<tr>\n",
       "  <th>Omnibus:</th>       <td> 1.779</td> <th>  Durbin-Watson:     </th> <td>   1.833</td>\n",
       "</tr>\n",
       "<tr>\n",
       "  <th>Prob(Omnibus):</th> <td> 0.411</td> <th>  Jarque-Bera (JB):  </th> <td>   1.619</td>\n",
       "</tr>\n",
       "<tr>\n",
       "  <th>Skew:</th>          <td> 0.048</td> <th>  Prob(JB):          </th> <td>   0.445</td>\n",
       "</tr>\n",
       "<tr>\n",
       "  <th>Kurtosis:</th>      <td> 2.701</td> <th>  Cond. No.          </th> <td>9.06e+04</td>\n",
       "</tr>\n",
       "</table><br/><br/>Notes:<br/>[1] R² is computed without centering (uncentered) since the model does not contain a constant.<br/>[2] Standard Errors assume that the covariance matrix of the errors is correctly specified.<br/>[3] The condition number is large, 9.06e+04. This might indicate that there are<br/>strong multicollinearity or other numerical problems."
      ],
      "text/plain": [
       "<class 'statsmodels.iolib.summary.Summary'>\n",
       "\"\"\"\n",
       "                                 OLS Regression Results                                \n",
       "=======================================================================================\n",
       "Dep. Variable:           Global_Sales   R-squared (uncentered):                   1.000\n",
       "Model:                            OLS   Adj. R-squared (uncentered):              1.000\n",
       "Method:                 Least Squares   F-statistic:                          1.995e+07\n",
       "Date:                Tue, 30 Nov 2021   Prob (F-statistic):                        0.00\n",
       "Time:                        12:30:00   Log-Likelihood:                          1440.1\n",
       "No. Observations:                 394   AIC:                                     -2864.\n",
       "Df Residuals:                     386   BIC:                                     -2832.\n",
       "Df Model:                           8                                                  \n",
       "Covariance Type:            nonrobust                                                  \n",
       "===============================================================================\n",
       "                  coef    std err          t      P>|t|      [0.025      0.975]\n",
       "-------------------------------------------------------------------------------\n",
       "year        -1.684e-06   2.17e-06     -0.778      0.437   -5.94e-06    2.57e-06\n",
       "rate            0.0004      0.001      0.671      0.503      -0.001       0.001\n",
       "votes        4.647e-08   4.87e-08      0.954      0.341   -4.93e-08    1.42e-07\n",
       "Rank         1.105e-07   9.62e-08      1.149      0.251   -7.86e-08       3e-07\n",
       "NA_Sales        1.0000      0.000   3003.062      0.000       0.999       1.001\n",
       "EU_Sales        0.9996      0.001   1793.616      0.000       0.998       1.001\n",
       "JP_Sales        1.0005      0.002    503.074      0.000       0.997       1.004\n",
       "Other_Sales     1.0000      0.001   1554.730      0.000       0.999       1.001\n",
       "==============================================================================\n",
       "Omnibus:                        1.779   Durbin-Watson:                   1.833\n",
       "Prob(Omnibus):                  0.411   Jarque-Bera (JB):                1.619\n",
       "Skew:                           0.048   Prob(JB):                        0.445\n",
       "Kurtosis:                       2.701   Cond. No.                     9.06e+04\n",
       "==============================================================================\n",
       "\n",
       "Notes:\n",
       "[1] R² is computed without centering (uncentered) since the model does not contain a constant.\n",
       "[2] Standard Errors assume that the covariance matrix of the errors is correctly specified.\n",
       "[3] The condition number is large, 9.06e+04. This might indicate that there are\n",
       "strong multicollinearity or other numerical problems.\n",
       "\"\"\""
      ]
     },
     "execution_count": 48,
     "metadata": {},
     "output_type": "execute_result"
    }
   ],
   "source": [
    "model = sm.OLS(y,x)\n",
    "fit = model.fit()\n",
    "fit.summary()"
   ]
  },
  {
   "cell_type": "markdown",
   "id": "862cb7ac",
   "metadata": {},
   "source": [
    "###  use RMSE and MAE to determine errors\n"
   ]
  },
  {
   "cell_type": "code",
   "execution_count": 49,
   "id": "39b32fc1",
   "metadata": {},
   "outputs": [],
   "source": [
    "from sklearn.metrics import mean_squared_error, mean_absolute_error\n",
    "\n",
    "rmse = mean_squared_error(y, preds, squared=False)\n",
    "mae = mean_absolute_error(y, preds)"
   ]
  },
  {
   "cell_type": "code",
   "execution_count": 50,
   "id": "5ce0724c",
   "metadata": {},
   "outputs": [
    {
     "name": "stdout",
     "output_type": "stream",
     "text": [
      "0.006257481455869881\n",
      "0.004254953150339981\n"
     ]
    }
   ],
   "source": [
    "print(rmse)\n",
    "print(mae)"
   ]
  },
  {
   "cell_type": "code",
   "execution_count": null,
   "id": "05fbaaa3",
   "metadata": {},
   "outputs": [],
   "source": []
  }
 ],
 "metadata": {
  "kernelspec": {
   "display_name": "Python 3",
   "language": "python",
   "name": "python3"
  },
  "language_info": {
   "codemirror_mode": {
    "name": "ipython",
    "version": 3
   },
   "file_extension": ".py",
   "mimetype": "text/x-python",
   "name": "python",
   "nbconvert_exporter": "python",
   "pygments_lexer": "ipython3",
   "version": "3.8.8"
  }
 },
 "nbformat": 4,
 "nbformat_minor": 5
}
