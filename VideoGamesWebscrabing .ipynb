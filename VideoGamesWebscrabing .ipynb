{
 "cells": [
  {
   "cell_type": "code",
   "execution_count": 8,
   "id": "f06f7923",
   "metadata": {},
   "outputs": [],
   "source": [
    "from bs4 import BeautifulSoup\n",
    "import requests\n",
    "import pandas as pd\n",
    "import numpy as np\n",
    "import re"
   ]
  },
  {
   "cell_type": "code",
   "execution_count": 10,
   "id": "5e81f24d",
   "metadata": {},
   "outputs": [
    {
     "data": {
      "text/plain": [
       "200"
      ]
     },
     "execution_count": 10,
     "metadata": {},
     "output_type": "execute_result"
    }
   ],
   "source": [
    "url = \"https://www.imdb.com/search/title/?title_type=video_game&num_votes=,5000,&sort=user_rating,desc&pf_rd_m=A2FGELUUNOQJNL&pf_rd_p=87cca6a7-a16d-42d9-b9de-6aace99ec40a&pf_rd_r=ERFX36S273PQKZHMN3NF&pf_rd_s=center-6&pf_rd_t=60601&pf_rd_i=video-games&ref_=fea_vg_scg_ats_toprated_hd\"\n",
    "\n",
    "response = requests.get(url)\n",
    "response.status_code"
   ]
  },
  {
   "cell_type": "code",
   "execution_count": 11,
   "id": "ef428c48",
   "metadata": {},
   "outputs": [],
   "source": [
    "page = response.text"
   ]
  },
  {
   "cell_type": "code",
   "execution_count": 12,
   "id": "f6b9905e",
   "metadata": {},
   "outputs": [],
   "source": [
    "soup = BeautifulSoup(page, \"lxml\")"
   ]
  },
  {
   "cell_type": "code",
   "execution_count": 13,
   "id": "33d07058",
   "metadata": {},
   "outputs": [
    {
     "data": {
      "text/plain": [
       "<div class=\"lister-item mode-advanced\">\n",
       "<div class=\"lister-top-right\">\n",
       "<div class=\"ribbonize\" data-caller=\"filmosearch\" data-tconst=\"tt5667286\"></div>\n",
       "</div>\n",
       "<div class=\"lister-item-image float-left\">\n",
       "<a href=\"/title/tt5667286/\"> <img alt=\"Wiedzmin 3: Dziki Gon Krew i wino\" class=\"loadlate\" data-tconst=\"tt5667286\" height=\"98\" loadlate=\"https://m.media-amazon.com/images/M/MV5BMTg2ZmY0MGUtZmFjZS00YjkxLTlmMWEtMDE0ZWQwYzBlODA2XkEyXkFqcGdeQXVyMzUwNzgzNzg@._V1_UY98_CR5,0,67,98_AL_.jpg\" src=\"https://m.media-amazon.com/images/S/sash/4FyxwxECzL-U1J8.png\" width=\"67\"/>\n",
       "</a> </div>\n",
       "<div class=\"lister-item-content\">\n",
       "<h3 class=\"lister-item-header\">\n",
       "<span class=\"lister-item-index unbold text-primary\">1.</span>\n",
       "<a href=\"/title/tt5667286/\">Wiedzmin 3: Dziki Gon Krew i wino</a>\n",
       "<span class=\"lister-item-year text-muted unbold\">(2016 Video Game)</span>\n",
       "</h3>\n",
       "<p class=\"text-muted\">\n",
       "<span class=\"genre\">\n",
       "Action, Adventure, Drama            </span>\n",
       "</p>\n",
       "<div class=\"ratings-bar\">\n",
       "<div class=\"inline-block ratings-imdb-rating\" data-value=\"9.8\" name=\"ir\">\n",
       "<span class=\"global-sprite rating-star imdb-rating\"></span>\n",
       "<strong>9.8</strong>\n",
       "</div>\n",
       "<div class=\"inline-block ratings-user-rating\">\n",
       "<span class=\"userRatingValue\" data-tconst=\"tt5667286\" id=\"urv_tt5667286\">\n",
       "<span class=\"global-sprite rating-star no-rating\"></span>\n",
       "<span class=\"rate\" data-no-rating=\"Rate this\" data-value=\"0\" name=\"ur\">Rate this</span>\n",
       "</span>\n",
       "<div class=\"starBarWidget\" id=\"sb_tt5667286\">\n",
       "<div class=\"rating rating-list\" data-csrf-token=\"\" data-ga-identifier=\"\" data-starbar-class=\"rating-list\" data-user=\"\" id=\"tt5667286|imdb|9.8|9.8|adv_li_tt||advsearch|title\" itemprop=\"aggregateRating\" itemscope=\"\" itemtype=\"http://schema.org/AggregateRating\" title=\"Users rated this 9.8/10 (6,806 votes) - click stars to rate\">\n",
       "<meta content=\"9.8\" itemprop=\"ratingValue\"/>\n",
       "<meta content=\"10\" itemprop=\"bestRating\"/>\n",
       "<meta content=\"6806\" itemprop=\"ratingCount\"/>\n",
       "<span class=\"rating-bg\"> </span>\n",
       "<span class=\"rating-imdb\" style=\"width: 137.2px\"> </span>\n",
       "<span class=\"rating-stars\">\n",
       "<a href=\"/register/login?why=vote\" rel=\"nofollow\" title=\"Register or login to rate this title\"><span>1</span></a>\n",
       "<a href=\"/register/login?why=vote\" rel=\"nofollow\" title=\"Register or login to rate this title\"><span>2</span></a>\n",
       "<a href=\"/register/login?why=vote\" rel=\"nofollow\" title=\"Register or login to rate this title\"><span>3</span></a>\n",
       "<a href=\"/register/login?why=vote\" rel=\"nofollow\" title=\"Register or login to rate this title\"><span>4</span></a>\n",
       "<a href=\"/register/login?why=vote\" rel=\"nofollow\" title=\"Register or login to rate this title\"><span>5</span></a>\n",
       "<a href=\"/register/login?why=vote\" rel=\"nofollow\" title=\"Register or login to rate this title\"><span>6</span></a>\n",
       "<a href=\"/register/login?why=vote\" rel=\"nofollow\" title=\"Register or login to rate this title\"><span>7</span></a>\n",
       "<a href=\"/register/login?why=vote\" rel=\"nofollow\" title=\"Register or login to rate this title\"><span>8</span></a>\n",
       "<a href=\"/register/login?why=vote\" rel=\"nofollow\" title=\"Register or login to rate this title\"><span>9</span></a>\n",
       "<a href=\"/register/login?why=vote\" rel=\"nofollow\" title=\"Register or login to rate this title\"><span>10</span></a>\n",
       "</span>\n",
       "<span class=\"rating-rating\"><span class=\"value\">9.8</span><span class=\"grey\">/</span><span class=\"grey\">10</span></span>\n",
       "<span class=\"rating-cancel\"><a href=\"/title/tt5667286/vote\" rel=\"nofollow\" title=\"Delete\"><span>X</span></a></span>\n",
       " </div>\n",
       "</div>\n",
       "</div>\n",
       "</div>\n",
       "<p class=\"text-muted\">\n",
       "Geralt is in the southern province of Toussaint where a monstrous serial killer is targeting knights with a dark past. Geralt and his old vampire friend investigate the killer's motives.</p>\n",
       "<p class=\"\">\n",
       "    Director:\n",
       "<a href=\"/name/nm2840922/\">Konrad Tomaszkiewicz</a>\n",
       "<span class=\"ghost\">|</span> \n",
       "    Stars:\n",
       "<a href=\"/name/nm0168339/\">Doug Cockle</a>, \n",
       "<a href=\"/name/nm1769728/\">MyAnna Buring</a>, \n",
       "<a href=\"/name/nm1553405/\">Antonia Bernath</a>, \n",
       "<a href=\"/name/nm1646345/\">Mark Noble</a>\n",
       "</p>\n",
       "<p class=\"sort-num_votes-visible\">\n",
       "<span class=\"text-muted\">Votes:</span>\n",
       "<span data-value=\"6806\" name=\"nv\">6,806</span>\n",
       "</p>\n",
       "</div>\n",
       "</div>"
      ]
     },
     "execution_count": 13,
     "metadata": {},
     "output_type": "execute_result"
    }
   ],
   "source": [
    "soup.find('div',class_='lister-item mode-advanced')"
   ]
  },
  {
   "cell_type": "code",
   "execution_count": 87,
   "id": "8da878d2",
   "metadata": {},
   "outputs": [
    {
     "data": {
      "text/plain": [
       "'Wiedzmin 3: Dziki Gon Krew i wino'"
      ]
     },
     "execution_count": 87,
     "metadata": {},
     "output_type": "execute_result"
    }
   ],
   "source": [
    "title = soup.find('h3',class_=\"lister-item-header\").a.text\n",
    "title"
   ]
  },
  {
   "cell_type": "code",
   "execution_count": 88,
   "id": "5164e7da",
   "metadata": {},
   "outputs": [
    {
     "data": {
      "text/plain": [
       "'2016 Video Game'"
      ]
     },
     "execution_count": 88,
     "metadata": {},
     "output_type": "execute_result"
    }
   ],
   "source": [
    "year = soup.find('span',class_=\"lister-item-year text-muted unbold\").text.replace('(','').replace(')','')\n",
    "year"
   ]
  },
  {
   "cell_type": "code",
   "execution_count": 179,
   "id": "eed510ca",
   "metadata": {},
   "outputs": [
    {
     "data": {
      "text/plain": [
       "'Action, Adventure, Drama'"
      ]
     },
     "execution_count": 179,
     "metadata": {},
     "output_type": "execute_result"
    }
   ],
   "source": [
    "Gtype = soup.find('p',class_=\"text-muted\").text.strip()\n",
    "Gtype"
   ]
  },
  {
   "cell_type": "code",
   "execution_count": 90,
   "id": "e41ada6d",
   "metadata": {},
   "outputs": [
    {
     "data": {
      "text/plain": [
       "'9.8'"
      ]
     },
     "execution_count": 90,
     "metadata": {},
     "output_type": "execute_result"
    }
   ],
   "source": [
    "rate = soup.find('div',class_=\"ratings-bar\").find('strong').text\n",
    "rate"
   ]
  },
  {
   "cell_type": "code",
   "execution_count": 123,
   "id": "de0475b8",
   "metadata": {
    "scrolled": true
   },
   "outputs": [
    {
     "data": {
      "text/plain": [
       "\"Geralt is in the southern province of Toussaint where a monstrous serial killer is targeting knights with a dark past. Geralt and his old vampire friend investigate the killer's motives.\""
      ]
     },
     "execution_count": 123,
     "metadata": {},
     "output_type": "execute_result"
    }
   ],
   "source": [
    "descr = soup.find_all('p',class_=\"text-muted\")[1].text.strip()\n",
    "descr"
   ]
  },
  {
   "cell_type": "code",
   "execution_count": 158,
   "id": "1bfff5da",
   "metadata": {
    "scrolled": true
   },
   "outputs": [
    {
     "data": {
      "text/plain": [
       "'Director:Konrad Tomaszkiewicz'"
      ]
     },
     "execution_count": 158,
     "metadata": {},
     "output_type": "execute_result"
    }
   ],
   "source": [
    "Director = soup.find('p',class_='').text.split('|')[0].strip().replace('\\n','')\n",
    "Director"
   ]
  },
  {
   "cell_type": "code",
   "execution_count": 159,
   "id": "b1caa294",
   "metadata": {
    "scrolled": true
   },
   "outputs": [
    {
     "data": {
      "text/plain": [
       "'Stars:Doug Cockle, MyAnna Buring, Antonia Bernath, Mark Noble'"
      ]
     },
     "execution_count": 159,
     "metadata": {},
     "output_type": "execute_result"
    }
   ],
   "source": [
    "star = soup.find('p',class_='').text.split('|')[1].strip().replace('\\n','')\n",
    "star"
   ]
  },
  {
   "cell_type": "code",
   "execution_count": 139,
   "id": "6ba1cb9e",
   "metadata": {
    "scrolled": true
   },
   "outputs": [
    {
     "data": {
      "text/plain": [
       "'6806'"
      ]
     },
     "execution_count": 139,
     "metadata": {},
     "output_type": "execute_result"
    }
   ],
   "source": [
    "votes = soup.find('p',class_='sort-num_votes-visible').text.split()[1].replace(',','')\n",
    "votes"
   ]
  },
  {
   "cell_type": "code",
   "execution_count": 223,
   "id": "8e78d986",
   "metadata": {},
   "outputs": [],
   "source": [
    "def clean_num(s):\n",
    "    \"\"\"cleans text scraped from website\n",
    "    \n",
    "    Parameters:\n",
    "    s (String): raw text\n",
    "\n",
    "    Returns:\n",
    "    String: cleaned digit text\n",
    "\n",
    "    \"\"\" \n",
    "\n",
    "    if s is None:\n",
    "        return s\n",
    "    return \"\".join(re.findall('\\d*\\.?\\d+',s))\n",
    "\n",
    "def get_data(block, tag, class_text):\n",
    "    \"\"\"fetch data from tag and its associated class\n",
    "    \n",
    "    Parameters:\n",
    "    block (int): Book item \n",
    "    tag (String): tag for element we want to fetch\n",
    "    class_text (String): class for element we want to fetch\n",
    "\n",
    "    Returns:\n",
    "    String: data text fetched\n",
    "\n",
    "    \"\"\" \n",
    "    try:\n",
    "        return block.find(tag, class_ = class_text).text.replace('(','').replace(')','')\n",
    "    except AttributeError:\n",
    "        return \"\"\n",
    "    return\n",
    "\n",
    "def get_data_a_tag(i, tag, class_text):    \n",
    "    try:\n",
    "        return i.find(tag, class_ = class_text).a.text\n",
    "    except AttributeError:\n",
    "        return \"\"\n",
    "    return\n",
    "def get_data_strong_tag(i, tag, class_text):    \n",
    "    try:\n",
    "        return i.find(tag, class_ = class_text).strong.text\n",
    "    except AttributeError:\n",
    "        return \"\"\n",
    "    return\n",
    "def get_data_descr(i, tag, class_text):    \n",
    "    try:\n",
    "        return i.find_all(tag, class_ = class_text)[1].text.strip()\n",
    "    except AttributeError:\n",
    "        return \"\"\n",
    "    return\n",
    "def get_data_Director(i, tag, class_text):    \n",
    "    try:\n",
    "        return i.find(tag, class_ = class_text).text.split('|')[0].strip().replace('\\n','')\n",
    "    except AttributeError:\n",
    "        return \"\"\n",
    "    return\n",
    "def get_data_Star(i, tag, class_text):    \n",
    "    try:\n",
    "        return i.find(tag, class_ = class_text).text.split('|')[1].strip().replace('\\n','')\n",
    "    except AttributeError:\n",
    "        return \"\"\n",
    "    return\n",
    "def get_data_votes(i, tag, class_text):    \n",
    "    try:\n",
    "        return i.find(tag, class_ = class_text).text.split()[1].replace(',','')\n",
    "    except AttributeError:\n",
    "        return \"\"\n",
    "    return"
   ]
  },
  {
   "cell_type": "code",
   "execution_count": 224,
   "id": "70fae20d",
   "metadata": {},
   "outputs": [
    {
     "ename": "TypeError",
     "evalue": "find() takes no keyword arguments",
     "output_type": "error",
     "traceback": [
      "\u001b[1;31m---------------------------------------------------------------------------\u001b[0m",
      "\u001b[1;31mTypeError\u001b[0m                                 Traceback (most recent call last)",
      "\u001b[1;32m<ipython-input-224-5d998d6d623e>\u001b[0m in \u001b[0;36m<module>\u001b[1;34m\u001b[0m\n\u001b[0;32m      1\u001b[0m \u001b[1;31m#Test with the first videio game to ensure functions are working\u001b[0m\u001b[1;33m\u001b[0m\u001b[1;33m\u001b[0m\u001b[1;33m\u001b[0m\u001b[0m\n\u001b[0;32m      2\u001b[0m \u001b[1;32mfor\u001b[0m \u001b[0mi\u001b[0m \u001b[1;32min\u001b[0m \u001b[1;33m(\u001b[0m\u001b[0msoup\u001b[0m\u001b[1;33m.\u001b[0m\u001b[0mfind\u001b[0m\u001b[1;33m(\u001b[0m\u001b[1;34m'div'\u001b[0m\u001b[1;33m,\u001b[0m\u001b[1;34m'lister-item mode-advanced'\u001b[0m\u001b[1;33m)\u001b[0m\u001b[1;33m)\u001b[0m\u001b[1;33m:\u001b[0m\u001b[1;33m\u001b[0m\u001b[1;33m\u001b[0m\u001b[0m\n\u001b[1;32m----> 3\u001b[1;33m     \u001b[0mprint\u001b[0m\u001b[1;33m(\u001b[0m\u001b[0mget_data_a_tag\u001b[0m\u001b[1;33m(\u001b[0m\u001b[0mi\u001b[0m\u001b[1;33m,\u001b[0m \u001b[1;34m\"h3\"\u001b[0m\u001b[1;33m,\u001b[0m\u001b[1;34m\"lister-item-header\"\u001b[0m\u001b[1;33m)\u001b[0m\u001b[1;33m)\u001b[0m\u001b[1;33m\u001b[0m\u001b[1;33m\u001b[0m\u001b[0m\n\u001b[0m\u001b[0;32m      4\u001b[0m     \u001b[0mprint\u001b[0m\u001b[1;33m(\u001b[0m\u001b[0mget_data\u001b[0m\u001b[1;33m(\u001b[0m\u001b[0mi\u001b[0m\u001b[1;33m,\u001b[0m \u001b[1;34m\"span\"\u001b[0m\u001b[1;33m,\u001b[0m \u001b[1;34m\"lister-item-year text-muted unbold\"\u001b[0m\u001b[1;33m)\u001b[0m\u001b[1;33m)\u001b[0m\u001b[1;33m\u001b[0m\u001b[1;33m\u001b[0m\u001b[0m\n\u001b[0;32m      5\u001b[0m     \u001b[0mprint\u001b[0m\u001b[1;33m(\u001b[0m\u001b[0mget_data\u001b[0m\u001b[1;33m(\u001b[0m\u001b[0mi\u001b[0m\u001b[1;33m,\u001b[0m \u001b[1;34m\"p\"\u001b[0m\u001b[1;33m,\u001b[0m \u001b[1;34m\"text-muted\"\u001b[0m\u001b[1;33m)\u001b[0m\u001b[1;33m.\u001b[0m\u001b[0mstrip\u001b[0m\u001b[1;33m(\u001b[0m\u001b[1;33m)\u001b[0m\u001b[1;33m)\u001b[0m\u001b[1;33m\u001b[0m\u001b[1;33m\u001b[0m\u001b[0m\n",
      "\u001b[1;32m<ipython-input-223-68c6faac7634>\u001b[0m in \u001b[0;36mget_data_a_tag\u001b[1;34m(i, tag, class_text)\u001b[0m\n\u001b[0;32m     34\u001b[0m \u001b[1;32mdef\u001b[0m \u001b[0mget_data_a_tag\u001b[0m\u001b[1;33m(\u001b[0m\u001b[0mi\u001b[0m\u001b[1;33m,\u001b[0m \u001b[0mtag\u001b[0m\u001b[1;33m,\u001b[0m \u001b[0mclass_text\u001b[0m\u001b[1;33m)\u001b[0m\u001b[1;33m:\u001b[0m\u001b[1;33m\u001b[0m\u001b[1;33m\u001b[0m\u001b[0m\n\u001b[0;32m     35\u001b[0m     \u001b[1;32mtry\u001b[0m\u001b[1;33m:\u001b[0m\u001b[1;33m\u001b[0m\u001b[1;33m\u001b[0m\u001b[0m\n\u001b[1;32m---> 36\u001b[1;33m         \u001b[1;32mreturn\u001b[0m \u001b[0mi\u001b[0m\u001b[1;33m.\u001b[0m\u001b[0mfind\u001b[0m\u001b[1;33m(\u001b[0m\u001b[0mtag\u001b[0m\u001b[1;33m,\u001b[0m \u001b[0mclass_\u001b[0m \u001b[1;33m=\u001b[0m \u001b[0mclass_text\u001b[0m\u001b[1;33m)\u001b[0m\u001b[1;33m.\u001b[0m\u001b[0ma\u001b[0m\u001b[1;33m.\u001b[0m\u001b[0mtext\u001b[0m\u001b[1;33m\u001b[0m\u001b[1;33m\u001b[0m\u001b[0m\n\u001b[0m\u001b[0;32m     37\u001b[0m     \u001b[1;32mexcept\u001b[0m \u001b[0mAttributeError\u001b[0m\u001b[1;33m:\u001b[0m\u001b[1;33m\u001b[0m\u001b[1;33m\u001b[0m\u001b[0m\n\u001b[0;32m     38\u001b[0m         \u001b[1;32mreturn\u001b[0m \u001b[1;34m\"\"\u001b[0m\u001b[1;33m\u001b[0m\u001b[1;33m\u001b[0m\u001b[0m\n",
      "\u001b[1;31mTypeError\u001b[0m: find() takes no keyword arguments"
     ]
    }
   ],
   "source": [
    "#Test with the first videio game to ensure functions are working\n",
    "for i in (soup.find('div','lister-item mode-advanced')):\n",
    "    print(get_data_a_tag(i, \"h3\",\"lister-item-header\"))\n",
    "    print(get_data(i, \"span\", \"lister-item-year text-muted unbold\"))\n",
    "    print(get_data(i, \"p\", \"text-muted\").strip())\n",
    "    print(clean_num(get_data_strong_tag(i, \"div\",\"ratings-bar\")))\n",
    "    print(get_data_descr(i, \"p\",\"text-muted\"))\n",
    "    print(get_data_Director(i, \"p\", \"\"))\n",
    "    print(get_data_Star(i, \"p\", \"\"))\n",
    "    print(clean_num(get_data_votes(i, \"p\",\"sort-num_votes-visible\")))"
   ]
  },
  {
   "cell_type": "code",
   "execution_count": 218,
   "id": "e823f69c",
   "metadata": {},
   "outputs": [
    {
     "name": "stdout",
     "output_type": "stream",
     "text": [
      "6806\n"
     ]
    }
   ],
   "source": [
    "    print(clean_num(get_data_votes(i, \"p\",\"sort-num_votes-visible\")))"
   ]
  },
  {
   "cell_type": "code",
   "execution_count": 229,
   "id": "2f35dc65",
   "metadata": {},
   "outputs": [
    {
     "ename": "IndexError",
     "evalue": "list index out of range",
     "output_type": "error",
     "traceback": [
      "\u001b[1;31m---------------------------------------------------------------------------\u001b[0m",
      "\u001b[1;31mIndexError\u001b[0m                                Traceback (most recent call last)",
      "\u001b[1;32m<ipython-input-229-629197b47969>\u001b[0m in \u001b[0;36m<module>\u001b[1;34m\u001b[0m\n\u001b[0;32m      8\u001b[0m     \u001b[0mdescr\u001b[0m \u001b[1;33m=\u001b[0m \u001b[0mget_data_descr\u001b[0m\u001b[1;33m(\u001b[0m\u001b[0mi\u001b[0m\u001b[1;33m,\u001b[0m \u001b[1;34m\"p\"\u001b[0m\u001b[1;33m,\u001b[0m\u001b[1;34m\"text-muted\"\u001b[0m\u001b[1;33m)\u001b[0m\u001b[1;33m\u001b[0m\u001b[1;33m\u001b[0m\u001b[0m\n\u001b[0;32m      9\u001b[0m     \u001b[0mDirector\u001b[0m \u001b[1;33m=\u001b[0m \u001b[0mget_data_Director\u001b[0m\u001b[1;33m(\u001b[0m\u001b[0mi\u001b[0m\u001b[1;33m,\u001b[0m \u001b[1;34m\"p\"\u001b[0m\u001b[1;33m,\u001b[0m \u001b[1;34m\"\"\u001b[0m\u001b[1;33m)\u001b[0m\u001b[1;33m\u001b[0m\u001b[1;33m\u001b[0m\u001b[0m\n\u001b[1;32m---> 10\u001b[1;33m     \u001b[0mstar\u001b[0m \u001b[1;33m=\u001b[0m \u001b[0mget_data_Star\u001b[0m\u001b[1;33m(\u001b[0m\u001b[0mi\u001b[0m\u001b[1;33m,\u001b[0m \u001b[1;34m\"p\"\u001b[0m\u001b[1;33m,\u001b[0m \u001b[1;34m\"\"\u001b[0m\u001b[1;33m)\u001b[0m\u001b[1;33m\u001b[0m\u001b[1;33m\u001b[0m\u001b[0m\n\u001b[0m\u001b[0;32m     11\u001b[0m     \u001b[0mvotes\u001b[0m \u001b[1;33m=\u001b[0m \u001b[0mclean_num\u001b[0m\u001b[1;33m(\u001b[0m\u001b[0mget_data_votes\u001b[0m\u001b[1;33m(\u001b[0m\u001b[0mi\u001b[0m\u001b[1;33m,\u001b[0m \u001b[1;34m\"p\"\u001b[0m\u001b[1;33m,\u001b[0m\u001b[1;34m\"sort-num_votes-visible\"\u001b[0m\u001b[1;33m)\u001b[0m\u001b[1;33m)\u001b[0m\u001b[1;33m\u001b[0m\u001b[1;33m\u001b[0m\u001b[0m\n\u001b[0;32m     12\u001b[0m \u001b[1;33m\u001b[0m\u001b[0m\n",
      "\u001b[1;32m<ipython-input-223-68c6faac7634>\u001b[0m in \u001b[0;36mget_data_Star\u001b[1;34m(i, tag, class_text)\u001b[0m\n\u001b[0;32m     58\u001b[0m \u001b[1;32mdef\u001b[0m \u001b[0mget_data_Star\u001b[0m\u001b[1;33m(\u001b[0m\u001b[0mi\u001b[0m\u001b[1;33m,\u001b[0m \u001b[0mtag\u001b[0m\u001b[1;33m,\u001b[0m \u001b[0mclass_text\u001b[0m\u001b[1;33m)\u001b[0m\u001b[1;33m:\u001b[0m\u001b[1;33m\u001b[0m\u001b[1;33m\u001b[0m\u001b[0m\n\u001b[0;32m     59\u001b[0m     \u001b[1;32mtry\u001b[0m\u001b[1;33m:\u001b[0m\u001b[1;33m\u001b[0m\u001b[1;33m\u001b[0m\u001b[0m\n\u001b[1;32m---> 60\u001b[1;33m         \u001b[1;32mreturn\u001b[0m \u001b[0mi\u001b[0m\u001b[1;33m.\u001b[0m\u001b[0mfind\u001b[0m\u001b[1;33m(\u001b[0m\u001b[0mtag\u001b[0m\u001b[1;33m,\u001b[0m \u001b[0mclass_\u001b[0m \u001b[1;33m=\u001b[0m \u001b[0mclass_text\u001b[0m\u001b[1;33m)\u001b[0m\u001b[1;33m.\u001b[0m\u001b[0mtext\u001b[0m\u001b[1;33m.\u001b[0m\u001b[0msplit\u001b[0m\u001b[1;33m(\u001b[0m\u001b[1;34m'|'\u001b[0m\u001b[1;33m)\u001b[0m\u001b[1;33m[\u001b[0m\u001b[1;36m1\u001b[0m\u001b[1;33m]\u001b[0m\u001b[1;33m.\u001b[0m\u001b[0mstrip\u001b[0m\u001b[1;33m(\u001b[0m\u001b[1;33m)\u001b[0m\u001b[1;33m.\u001b[0m\u001b[0mreplace\u001b[0m\u001b[1;33m(\u001b[0m\u001b[1;34m'\\n'\u001b[0m\u001b[1;33m,\u001b[0m\u001b[1;34m''\u001b[0m\u001b[1;33m)\u001b[0m\u001b[1;33m\u001b[0m\u001b[1;33m\u001b[0m\u001b[0m\n\u001b[0m\u001b[0;32m     61\u001b[0m     \u001b[1;32mexcept\u001b[0m \u001b[0mAttributeError\u001b[0m\u001b[1;33m:\u001b[0m\u001b[1;33m\u001b[0m\u001b[1;33m\u001b[0m\u001b[0m\n\u001b[0;32m     62\u001b[0m         \u001b[1;32mreturn\u001b[0m \u001b[1;34m\"\"\u001b[0m\u001b[1;33m\u001b[0m\u001b[1;33m\u001b[0m\u001b[0m\n",
      "\u001b[1;31mIndexError\u001b[0m: list index out of range"
     ]
    }
   ],
   "source": [
    "Vgame_list = []\n",
    "\n",
    "for i in (soup.find_all('div','lister-item mode-advanced')):\n",
    "    title = get_data_a_tag(i, \"h3\",\"lister-item-header\")\n",
    "    year = get_data(i, \"span\", \"lister-item-year text-muted unbold\")\n",
    "    Gtype = get_data(i, \"p\", \"text-muted\").strip()\n",
    "    rate = clean_num(get_data_strong_tag(i, \"div\",\"ratings-bar\"))\n",
    "    descr = get_data_descr(i, \"p\",\"text-muted\")\n",
    "    Director = get_data_Director(i, \"p\", \"\")\n",
    "    star = get_data_Star(i, \"p\", \"\")\n",
    "    votes = clean_num(get_data_votes(i, \"p\",\"sort-num_votes-visible\"))\n",
    "    \n",
    "    headers = ['title', 'year', 'game_type', 'rate', 'descr',\n",
    "              'director','star','votes']\n",
    "    book_dict = dict(zip(headers, [ title,\n",
    "                                    year,\n",
    "                                    Gtype,\n",
    "                                    rate,\n",
    "                                    descr, \n",
    "                                    Director,\n",
    "                                    star,\n",
    "                                    votes]))\n",
    "    Vgame_list.append(book_dict)\n",
    "\n",
    "    Vgame_list"
   ]
  },
  {
   "cell_type": "code",
   "execution_count": null,
   "id": "3fd4dd08",
   "metadata": {},
   "outputs": [],
   "source": []
  }
 ],
 "metadata": {
  "kernelspec": {
   "display_name": "Python 3",
   "language": "python",
   "name": "python3"
  },
  "language_info": {
   "codemirror_mode": {
    "name": "ipython",
    "version": 3
   },
   "file_extension": ".py",
   "mimetype": "text/x-python",
   "name": "python",
   "nbconvert_exporter": "python",
   "pygments_lexer": "ipython3",
   "version": "3.8.8"
  }
 },
 "nbformat": 4,
 "nbformat_minor": 5
}
